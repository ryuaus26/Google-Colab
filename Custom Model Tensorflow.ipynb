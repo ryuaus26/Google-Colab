{
  "cells": [
    {
      "cell_type": "code",
      "source": [
        "import tensorflow as tf\n",
        "import matplotlib.pyplot as plt\n",
        "import keras\n",
        "import numpy as np\n",
        "from keras.models import Model"
      ],
      "metadata": {
        "id": "Smw_B-nSq7Y8"
      },
      "execution_count": 3,
      "outputs": []
    },
    {
      "cell_type": "code",
      "source": [
        "#function y = w(x) + b\n",
        "#Function y= 2(x) + 2\n",
        "true_w = 2\n",
        "true_b = 2\n",
        "examples = 1000\n",
        "w_true = 2.0\n",
        "b_true = 2.0\n",
        "\n",
        "\n",
        "xs = tf.random.normal(shape=[examples])\n",
        "ys = (true_w * xs) + true_b\n"
      ],
      "metadata": {
        "id": "4-1V9s5OrODI"
      },
      "execution_count": 105,
      "outputs": []
    },
    {
      "cell_type": "code",
      "source": [
        "class Model(object):\n",
        "  def __init__(self):\n",
        "    self.w = tf.Variable(0.0)\n",
        "    self.b = tf.Variable(1.0)\n",
        "  def __call__(self,x):\n",
        "    return (self.w * x) + self.b\n",
        "model = Model()"
      ],
      "metadata": {
        "id": "aY2xjWMXrjzH"
      },
      "execution_count": 106,
      "outputs": []
    },
    {
      "cell_type": "code",
      "source": [
        "def loss(predicted_y,target_y):\n",
        "  return tf.reduce_mean(tf.square(predicted_y - target_y))\n"
      ],
      "metadata": {
        "id": "EzU2i5i7s_91"
      },
      "execution_count": 107,
      "outputs": []
    },
    {
      "cell_type": "code",
      "source": [
        "def train(model,inputs,outputs,learning_rate):\n",
        "  with tf.GradientTape() as tape:\n",
        "    current_loss = loss(model(inputs),outputs)\n",
        "  dw,db = tape.gradient(current_loss,[model.w,model.b])\n",
        "  model.w.assign_sub(learning_rate * dw)\n",
        "  model.b.assign_sub(learning_rate * db)\n",
        "\n",
        "  return current_loss\n",
        "\n",
        "\n",
        "\n"
      ],
      "metadata": {
        "id": "dfh3GYGSvnIa"
      },
      "execution_count": 108,
      "outputs": []
    },
    {
      "cell_type": "code",
      "source": [
        "model = Model()\n",
        "\n",
        "list_w, list_b = [], []\n",
        "epochs = range(100)\n",
        "lr = 0.1\n",
        "losses = []\n",
        "for epoch in epochs:\n",
        "  list_w.append(model.b.numpy())\n",
        "  list_b.append(model.b.numpy())\n",
        "  current_loss = train(model,xs,ys,lr)\n",
        "  losses.append(current_loss)\n",
        "  print(f\"Epoch: {epoch} w: {round(list_w[-1], 2)} b: {round(list_b[-1], 2)} loss: {losses[-1]}\")\n"
      ],
      "metadata": {
        "id": "FWb6cEhfwAax",
        "outputId": "9aabfb94-183e-4f05-8037-429ba624074a",
        "colab": {
          "base_uri": "https://localhost:8080/"
        }
      },
      "execution_count": 123,
      "outputs": [
        {
          "output_type": "stream",
          "name": "stdout",
          "text": [
            "Epoch: 0 w: 1.0 b: 1.0 loss: 4.607217788696289\n",
            "Epoch: 1 w: 1.2000000476837158 b: 1.2000000476837158 loss: 3.062887668609619\n",
            "Epoch: 2 w: 1.3600000143051147 b: 1.3600000143051147 loss: 2.037170648574829\n",
            "Epoch: 3 w: 1.4900000095367432 b: 1.4900000095367432 loss: 1.3555716276168823\n",
            "Epoch: 4 w: 1.590000033378601 b: 1.590000033378601 loss: 0.9024243354797363\n",
            "Epoch: 5 w: 1.6799999475479126 b: 1.6799999475479126 loss: 0.601017415523529\n",
            "Epoch: 6 w: 1.7400000095367432 b: 1.7400000095367432 loss: 0.4004477262496948\n",
            "Epoch: 7 w: 1.7899999618530273 b: 1.7899999618530273 loss: 0.2669202983379364\n",
            "Epoch: 8 w: 1.840000033378601 b: 1.840000033378601 loss: 0.17798741161823273\n",
            "Epoch: 9 w: 1.8700000047683716 b: 1.8700000047683716 loss: 0.11873079836368561\n",
            "Epoch: 10 w: 1.899999976158142 b: 1.899999976158142 loss: 0.07923158258199692\n",
            "Epoch: 11 w: 1.9199999570846558 b: 1.9199999570846558 loss: 0.05289189890027046\n",
            "Epoch: 12 w: 1.9299999475479126 b: 1.9299999475479126 loss: 0.035320814698934555\n",
            "Epoch: 13 w: 1.9500000476837158 b: 1.9500000476837158 loss: 0.023594871163368225\n",
            "Epoch: 14 w: 1.9600000381469727 b: 1.9600000381469727 loss: 0.01576686091721058\n",
            "Epoch: 15 w: 1.9700000286102295 b: 1.9700000286102295 loss: 0.010539203882217407\n",
            "Epoch: 16 w: 1.9700000286102295 b: 1.9700000286102295 loss: 0.007046960294246674\n",
            "Epoch: 17 w: 1.9800000190734863 b: 1.9800000190734863 loss: 0.004713262896984816\n",
            "Epoch: 18 w: 1.9800000190734863 b: 1.9800000190734863 loss: 0.0031532777938991785\n",
            "Epoch: 19 w: 1.9900000095367432 b: 1.9900000095367432 loss: 0.002110182773321867\n",
            "Epoch: 20 w: 1.9900000095367432 b: 1.9900000095367432 loss: 0.0014125020243227482\n",
            "Epoch: 21 w: 1.9900000095367432 b: 1.9900000095367432 loss: 0.0009457305422984064\n",
            "Epoch: 22 w: 1.9900000095367432 b: 1.9900000095367432 loss: 0.0006333570345304906\n",
            "Epoch: 23 w: 1.9900000095367432 b: 1.9900000095367432 loss: 0.0004242575669195503\n",
            "Epoch: 24 w: 2.0 b: 2.0 loss: 0.0002842520480044186\n",
            "Epoch: 25 w: 2.0 b: 2.0 loss: 0.0001904904784169048\n",
            "Epoch: 26 w: 2.0 b: 2.0 loss: 0.00012768158921971917\n",
            "Epoch: 27 w: 2.0 b: 2.0 loss: 8.55995895108208e-05\n",
            "Epoch: 28 w: 2.0 b: 2.0 loss: 5.739786502090283e-05\n",
            "Epoch: 29 w: 2.0 b: 2.0 loss: 3.849447602988221e-05\n",
            "Epoch: 30 w: 2.0 b: 2.0 loss: 2.582100933068432e-05\n",
            "Epoch: 31 w: 2.0 b: 2.0 loss: 1.7322756320936605e-05\n",
            "Epoch: 32 w: 2.0 b: 2.0 loss: 1.162336138804676e-05\n",
            "Epoch: 33 w: 2.0 b: 2.0 loss: 7.800170351401903e-06\n",
            "Epoch: 34 w: 2.0 b: 2.0 loss: 5.235498974798247e-06\n",
            "Epoch: 35 w: 2.0 b: 2.0 loss: 3.514441004881519e-06\n",
            "Epoch: 36 w: 2.0 b: 2.0 loss: 2.3595769107487286e-06\n",
            "Epoch: 37 w: 2.0 b: 2.0 loss: 1.5842725815673475e-06\n",
            "Epoch: 38 w: 2.0 b: 2.0 loss: 1.0638271987772896e-06\n",
            "Epoch: 39 w: 2.0 b: 2.0 loss: 7.144145115489664e-07\n",
            "Epoch: 40 w: 2.0 b: 2.0 loss: 4.798279178430676e-07\n",
            "Epoch: 41 w: 2.0 b: 2.0 loss: 3.222977511541103e-07\n",
            "Epoch: 42 w: 2.0 b: 2.0 loss: 2.1651442239090102e-07\n",
            "Epoch: 43 w: 2.0 b: 2.0 loss: 1.4543634563324304e-07\n",
            "Epoch: 44 w: 2.0 b: 2.0 loss: 9.773623332876014e-08\n",
            "Epoch: 45 w: 2.0 b: 2.0 loss: 6.56570904311593e-08\n",
            "Epoch: 46 w: 2.0 b: 2.0 loss: 4.4135859411653655e-08\n",
            "Epoch: 47 w: 2.0 b: 2.0 loss: 2.965083290007442e-08\n",
            "Epoch: 48 w: 2.0 b: 2.0 loss: 1.9940209483593208e-08\n",
            "Epoch: 49 w: 2.0 b: 2.0 loss: 1.3393012032736351e-08\n",
            "Epoch: 50 w: 2.0 b: 2.0 loss: 8.994169853338008e-09\n",
            "Epoch: 51 w: 2.0 b: 2.0 loss: 6.041694255998209e-09\n",
            "Epoch: 52 w: 2.0 b: 2.0 loss: 4.056872615620932e-09\n",
            "Epoch: 53 w: 2.0 b: 2.0 loss: 2.724063863368542e-09\n",
            "Epoch: 54 w: 2.0 b: 2.0 loss: 1.8360036824205395e-09\n",
            "Epoch: 55 w: 2.0 b: 2.0 loss: 1.2322510789530838e-09\n",
            "Epoch: 56 w: 2.0 b: 2.0 loss: 8.26003654363916e-10\n",
            "Epoch: 57 w: 2.0 b: 2.0 loss: 5.577505679532635e-10\n",
            "Epoch: 58 w: 2.0 b: 2.0 loss: 3.7670747077278577e-10\n",
            "Epoch: 59 w: 2.0 b: 2.0 loss: 2.523032893719801e-10\n",
            "Epoch: 60 w: 2.0 b: 2.0 loss: 1.7002908803132044e-10\n",
            "Epoch: 61 w: 2.0 b: 2.0 loss: 1.1365578617139604e-10\n",
            "Epoch: 62 w: 2.0 b: 2.0 loss: 7.605615442995983e-11\n",
            "Epoch: 63 w: 2.0 b: 2.0 loss: 5.1104166037818644e-11\n",
            "Epoch: 64 w: 2.0 b: 2.0 loss: 3.483481211818962e-11\n",
            "Epoch: 65 w: 2.0 b: 2.0 loss: 2.383683354867383e-11\n",
            "Epoch: 66 w: 2.0 b: 2.0 loss: 1.5732240163379707e-11\n",
            "Epoch: 67 w: 2.0 b: 2.0 loss: 1.0902141169000235e-11\n",
            "Epoch: 68 w: 2.0 b: 2.0 loss: 7.466539539424666e-12\n",
            "Epoch: 69 w: 2.0 b: 2.0 loss: 5.178847368308981e-12\n",
            "Epoch: 70 w: 2.0 b: 2.0 loss: 3.3336534487754532e-12\n",
            "Epoch: 71 w: 2.0 b: 2.0 loss: 2.2291573968657996e-12\n",
            "Epoch: 72 w: 2.0 b: 2.0 loss: 1.6399042497214356e-12\n",
            "Epoch: 73 w: 2.0 b: 2.0 loss: 1.1434621695685654e-12\n",
            "Epoch: 74 w: 2.0 b: 2.0 loss: 7.250520171232788e-13\n",
            "Epoch: 75 w: 2.0 b: 2.0 loss: 5.374403179436715e-13\n",
            "Epoch: 76 w: 2.0 b: 2.0 loss: 3.9980819761635533e-13\n",
            "Epoch: 77 w: 2.0 b: 2.0 loss: 2.667093163075812e-13\n",
            "Epoch: 78 w: 2.0 b: 2.0 loss: 2.04110505081824e-13\n",
            "Epoch: 79 w: 2.0 b: 2.0 loss: 1.284945457327713e-13\n",
            "Epoch: 80 w: 2.0 b: 2.0 loss: 1.284945457327713e-13\n",
            "Epoch: 81 w: 2.0 b: 2.0 loss: 1.284945457327713e-13\n",
            "Epoch: 82 w: 2.0 b: 2.0 loss: 1.284945457327713e-13\n",
            "Epoch: 83 w: 2.0 b: 2.0 loss: 1.284945457327713e-13\n",
            "Epoch: 84 w: 2.0 b: 2.0 loss: 1.284945457327713e-13\n",
            "Epoch: 85 w: 2.0 b: 2.0 loss: 1.284945457327713e-13\n",
            "Epoch: 86 w: 2.0 b: 2.0 loss: 1.284945457327713e-13\n",
            "Epoch: 87 w: 2.0 b: 2.0 loss: 1.284945457327713e-13\n",
            "Epoch: 88 w: 2.0 b: 2.0 loss: 1.284945457327713e-13\n",
            "Epoch: 89 w: 2.0 b: 2.0 loss: 1.284945457327713e-13\n",
            "Epoch: 90 w: 2.0 b: 2.0 loss: 1.284945457327713e-13\n",
            "Epoch: 91 w: 2.0 b: 2.0 loss: 1.284945457327713e-13\n",
            "Epoch: 92 w: 2.0 b: 2.0 loss: 1.284945457327713e-13\n",
            "Epoch: 93 w: 2.0 b: 2.0 loss: 1.284945457327713e-13\n",
            "Epoch: 94 w: 2.0 b: 2.0 loss: 1.284945457327713e-13\n",
            "Epoch: 95 w: 2.0 b: 2.0 loss: 1.284945457327713e-13\n",
            "Epoch: 96 w: 2.0 b: 2.0 loss: 1.284945457327713e-13\n",
            "Epoch: 97 w: 2.0 b: 2.0 loss: 1.284945457327713e-13\n",
            "Epoch: 98 w: 2.0 b: 2.0 loss: 1.284945457327713e-13\n",
            "Epoch: 99 w: 2.0 b: 2.0 loss: 1.284945457327713e-13\n"
          ]
        }
      ]
    },
    {
      "cell_type": "code",
      "source": [
        "plt.plot(epochs,list_w,'r',epochs,list_b,'b')\n",
        "plt.plot([w_true] * len(epochs),'r--',[b_true] * len(epochs),'b--')\n",
        "plt.legend(['w,','b','True_w','True-b'])\n",
        "plt.show()"
      ],
      "metadata": {
        "id": "xkjJAauFxifo",
        "outputId": "44db603f-c05c-4afd-ffac-49cc64ffc6e0",
        "colab": {
          "base_uri": "https://localhost:8080/",
          "height": 430
        }
      },
      "execution_count": 124,
      "outputs": [
        {
          "output_type": "display_data",
          "data": {
            "text/plain": [
              "<Figure size 640x480 with 1 Axes>"
            ],
            "image/png": "[encoded data removed]"
          },
          "metadata": {}
        }
      ]
    },
    {
      "cell_type": "code",
      "source": [
        "def plot_data(inputs,ouputs,predicted_ouputs):\n",
        "  plt.scatter(inputs,ouputs,c='b')\n",
        "  plt.scatter(inputs,predicted_ouputs,c='r')\n",
        "  plt.legend(['X','Y_True','X','Y_hat'])\n",
        "  plt.show()"
      ],
      "metadata": {
        "id": "YhbOPWAqzqF8"
      },
      "execution_count": 125,
      "outputs": []
    },
    {
      "cell_type": "code",
      "source": [
        "test_inputs = tf.random.normal(shape = [examples])\n",
        "test_outputs = (test_inputs * w_true) + b_true\n",
        "\n",
        "predicted_test_outputs = model(test_inputs)\n",
        "plot_data(test_inputs,test_outputs,predicted_test_outputs)"
      ],
      "metadata": {
        "id": "-khQdLYJ1Tzb",
        "outputId": "593046f5-6c77-4971-f499-c17151e03ab3",
        "colab": {
          "base_uri": "https://localhost:8080/",
          "height": 430
        }
      },
      "execution_count": 126,
      "outputs": [
        {
          "output_type": "display_data",
          "data": {
            "text/plain": [
              "<Figure size 640x480 with 1 Axes>"
            ],
            "image/png": "[encoded data removed]"
          },
          "metadata": {}
        }
      ]
    },
    {
      "cell_type": "code",
      "source": [],
      "metadata": {
        "id": "P1d9_w3q1tMT"
      },
      "execution_count": 100,
      "outputs": []
    }
  ],
  "metadata": {
    "colab": {
      "name": "Welcome To Colaboratory",
      "toc_visible": true,
      "provenance": []
    },
    "kernelspec": {
      "display_name": "Python 3",
      "name": "python3"
    }
  },
  "nbformat": 4,
  "nbformat_minor": 0
}